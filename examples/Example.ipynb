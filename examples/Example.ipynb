{
 "cells": [
  {
   "cell_type": "code",
   "execution_count": 1,
   "metadata": {},
   "outputs": [
    {
     "data": {
      "text/plain": [
       "'/Users/ssievert/Developer/stsievert/dask-searchcv/dask_searchcv/__init__.py'"
      ]
     },
     "execution_count": 1,
     "metadata": {},
     "output_type": "execute_result"
    }
   ],
   "source": [
    "import time\n",
    "\n",
    "import numpy as np\n",
    "import scipy.stats as stats\n",
    "import dask.array as da\n",
    "\n",
    "from sklearn.model_selection import train_test_split\n",
    "from sklearn.linear_model import SGDClassifier\n",
    "import sklearn\n",
    "\n",
    "import dask_ml\n",
    "from dask_ml.datasets import make_classification\n",
    "from dask_ml.wrappers import Incremental\n",
    "from dask_searchcv import Hyperband\n",
    "import dask_searchcv\n",
    "dask_searchcv.__file__"
   ]
  },
  {
   "cell_type": "code",
   "execution_count": 7,
   "metadata": {},
   "outputs": [],
   "source": [
    "n, d = int(1000), int(100)\n",
    "X, y = make_classification(n_features=d, n_samples=n,\n",
    "                           chunks=(n//10, d))\n",
    "classes = da.unique(y)\n",
    "\n",
    "kwargs = dict(loss='hinge', penalty='elasticnet',\n",
    "              max_iter=1.0, warm_start=True)\n",
    "model = Incremental(SGDClassifier(), **kwargs)\n",
    "params = {'alpha': np.logspace(-4, 0, num=1000),\n",
    "          'l1_ratio': stats.uniform(0, 1),\n",
    "          'average': [True, False]}\n",
    "\n",
    "# class ConstantFunction:\n",
    "#     def _fn(self):\n",
    "#         return self.value\n",
    "\n",
    "#     def get_params(self, deep=None, **kwargs):\n",
    "#         return {k: getattr(self, k) for k, v in kwargs.items()}\n",
    "\n",
    "#     def set_params(self, **kwargs):\n",
    "#         for k, v in kwargs.items():\n",
    "#             setattr(self, k, v)\n",
    "#         return self\n",
    "\n",
    "#     def partial_fit(self, *args, **kwargs):\n",
    "#         pass\n",
    "\n",
    "#     def score(self, *args, **kwargs):\n",
    "#         return self._fn()\n",
    "    \n",
    "#     def fit(self, *args, **kwargs):\n",
    "#         return self._fn()\n",
    "    \n",
    "# model = ConstantFunction()\n",
    "# params = {'value': stats.uniform(0, 1)}"
   ]
  },
  {
   "cell_type": "code",
   "execution_count": 8,
   "metadata": {},
   "outputs": [],
   "source": [
    "from distributed import Client\n",
    "client = Client()"
   ]
  },
  {
   "cell_type": "code",
   "execution_count": 9,
   "metadata": {},
   "outputs": [
    {
     "name": "stderr",
     "output_type": "stream",
     "text": [
      "distributed.utils - ERROR - '<' not supported between instances of 'NoneType' and 'NoneType'\n",
      "Traceback (most recent call last):\n",
      "  File \"/Users/ssievert/anaconda3/envs/dask-master/lib/python3.6/site-packages/distributed/utils.py\", line 644, in log_errors\n",
      "    yield\n",
      "  File \"/Users/ssievert/anaconda3/envs/dask-master/lib/python3.6/site-packages/distributed/bokeh/scheduler.py\", line 1107, in graph_doc\n",
      "    graph = GraphPlot(scheduler, sizing_mode='stretch_both')\n",
      "  File \"/Users/ssievert/anaconda3/envs/dask-master/lib/python3.6/site-packages/distributed/bokeh/scheduler.py\", line 612, in __init__\n",
      "    self.layout = GraphLayout(scheduler)\n",
      "  File \"/Users/ssievert/anaconda3/envs/dask-master/lib/python3.6/site-packages/distributed/diagnostics/graph_layout.py\", line 37, in __init__\n",
      "    priority=priority)\n",
      "  File \"/Users/ssievert/anaconda3/envs/dask-master/lib/python3.6/site-packages/distributed/diagnostics/graph_layout.py\", line 41, in update_graph\n",
      "    stack = sorted(dependencies, key=priority.get, reverse=True)\n",
      "TypeError: '<' not supported between instances of 'NoneType' and 'NoneType'\n",
      "tornado.application - ERROR - Uncaught exception GET /graph (127.0.0.1)\n",
      "HTTPServerRequest(protocol='http', host='localhost:8787', method='GET', uri='/graph', version='HTTP/1.1', remote_ip='127.0.0.1')\n",
      "Traceback (most recent call last):\n",
      "  File \"/Users/ssievert/anaconda3/envs/dask-master/lib/python3.6/site-packages/tornado/web.py\", line 1543, in _execute\n",
      "    result = yield result\n",
      "  File \"/Users/ssievert/anaconda3/envs/dask-master/lib/python3.6/site-packages/tornado/gen.py\", line 1099, in run\n",
      "    value = future.result()\n",
      "  File \"/Users/ssievert/anaconda3/envs/dask-master/lib/python3.6/site-packages/tornado/gen.py\", line 1107, in run\n",
      "    yielded = self.gen.throw(*exc_info)\n",
      "  File \"/Users/ssievert/anaconda3/envs/dask-master/lib/python3.6/site-packages/bokeh/server/views/doc_handler.py\", line 21, in get\n",
      "    session = yield self.get_session()\n",
      "  File \"/Users/ssievert/anaconda3/envs/dask-master/lib/python3.6/site-packages/tornado/gen.py\", line 1099, in run\n",
      "    value = future.result()\n",
      "  File \"/Users/ssievert/anaconda3/envs/dask-master/lib/python3.6/site-packages/tornado/gen.py\", line 1107, in run\n",
      "    yielded = self.gen.throw(*exc_info)\n",
      "  File \"/Users/ssievert/anaconda3/envs/dask-master/lib/python3.6/site-packages/bokeh/server/views/session_handler.py\", line 43, in get_session\n",
      "    session = yield self.application_context.create_session_if_needed(session_id, self.request)\n",
      "  File \"/Users/ssievert/anaconda3/envs/dask-master/lib/python3.6/site-packages/tornado/gen.py\", line 1099, in run\n",
      "    value = future.result()\n",
      "  File \"/Users/ssievert/anaconda3/envs/dask-master/lib/python3.6/site-packages/tornado/gen.py\", line 1113, in run\n",
      "    yielded = self.gen.send(value)\n",
      "  File \"/Users/ssievert/anaconda3/envs/dask-master/lib/python3.6/site-packages/bokeh/server/application_context.py\", line 182, in create_session_if_needed\n",
      "    self._application.initialize_document(doc)\n",
      "  File \"/Users/ssievert/anaconda3/envs/dask-master/lib/python3.6/site-packages/bokeh/application/application.py\", line 169, in initialize_document\n",
      "    h.modify_document(doc)\n",
      "  File \"/Users/ssievert/anaconda3/envs/dask-master/lib/python3.6/site-packages/bokeh/application/handlers/function.py\", line 126, in modify_document\n",
      "    self._func(doc)\n",
      "  File \"/Users/ssievert/anaconda3/envs/dask-master/lib/python3.6/site-packages/distributed/bokeh/scheduler.py\", line 1107, in graph_doc\n",
      "    graph = GraphPlot(scheduler, sizing_mode='stretch_both')\n",
      "  File \"/Users/ssievert/anaconda3/envs/dask-master/lib/python3.6/site-packages/distributed/bokeh/scheduler.py\", line 612, in __init__\n",
      "    self.layout = GraphLayout(scheduler)\n",
      "  File \"/Users/ssievert/anaconda3/envs/dask-master/lib/python3.6/site-packages/distributed/diagnostics/graph_layout.py\", line 37, in __init__\n",
      "    priority=priority)\n",
      "  File \"/Users/ssievert/anaconda3/envs/dask-master/lib/python3.6/site-packages/distributed/diagnostics/graph_layout.py\", line 41, in update_graph\n",
      "    stack = sorted(dependencies, key=priority.get, reverse=True)\n",
      "TypeError: '<' not supported between instances of 'NoneType' and 'NoneType'\n",
      "Exception ignored in: <bound method GraphPlot.__del__ of <distributed.bokeh.scheduler.GraphPlot object at 0x112430be0>>\n",
      "Traceback (most recent call last):\n",
      "  File \"/Users/ssievert/anaconda3/envs/dask-master/lib/python3.6/site-packages/distributed/bokeh/scheduler.py\", line 744, in __del__\n",
      "    self.scheduler.remove_plugin(self.layout)\n",
      "AttributeError: 'GraphPlot' object has no attribute 'layout'\n"
     ]
    },
    {
     "data": {
      "text/plain": [
       "Hyperband(eta=3, max_iter=None,\n",
       "     model=Incremental(SGDClassifier(alpha=0.0001, average=False, class_weight=None, epsilon=0.1,\n",
       "       eta0=0.0, fit_intercept=True, l1_ratio=0.15,\n",
       "       learning_rate='optimal', loss='hinge', max_iter=1.0, n_iter=None,\n",
       "       n_jobs=1, penalty='elasticnet', power_t=0.5, random_state=None,\n",
       "       shuffle=True, tol=None, verbose=0, warm_start=True)),\n",
       "     n_jobs=-1, param_distributions=None, scoring=None)"
      ]
     },
     "execution_count": 9,
     "metadata": {},
     "output_type": "execute_result"
    }
   ],
   "source": [
    "alg = Hyperband(model, params, max_iter=9)\n",
    "\n",
    "alg.fit(X, y, classes=classes)"
   ]
  },
  {
   "cell_type": "code",
   "execution_count": 8,
   "metadata": {},
   "outputs": [
    {
     "name": "stdout",
     "output_type": "stream",
     "text": [
      "3\n",
      "[0 1 2]\n"
     ]
    },
    {
     "data": {
      "text/html": [
       "<div>\n",
       "<style scoped>\n",
       "    .dataframe tbody tr th:only-of-type {\n",
       "        vertical-align: middle;\n",
       "    }\n",
       "\n",
       "    .dataframe tbody tr th {\n",
       "        vertical-align: top;\n",
       "    }\n",
       "\n",
       "    .dataframe thead th {\n",
       "        text-align: right;\n",
       "    }\n",
       "</style>\n",
       "<table border=\"1\" class=\"dataframe\">\n",
       "  <thead>\n",
       "    <tr style=\"text-align: right;\">\n",
       "      <th></th>\n",
       "      <th>bracket</th>\n",
       "      <th>bracket_iter</th>\n",
       "      <th>model_id</th>\n",
       "      <th>num_models</th>\n",
       "      <th>param_value</th>\n",
       "      <th>partial_fit_iters</th>\n",
       "      <th>val_score</th>\n",
       "    </tr>\n",
       "  </thead>\n",
       "  <tbody>\n",
       "    <tr>\n",
       "      <th>62</th>\n",
       "      <td>1</td>\n",
       "      <td>1</td>\n",
       "      <td>s=1-3</td>\n",
       "      <td>2</td>\n",
       "      <td>0.764897</td>\n",
       "      <td>36.0</td>\n",
       "      <td>0.764897</td>\n",
       "    </tr>\n",
       "    <tr>\n",
       "      <th>63</th>\n",
       "      <td>0</td>\n",
       "      <td>0</td>\n",
       "      <td>s=0-0</td>\n",
       "      <td>4</td>\n",
       "      <td>0.991038</td>\n",
       "      <td>27.0</td>\n",
       "      <td>0.991038</td>\n",
       "    </tr>\n",
       "    <tr>\n",
       "      <th>64</th>\n",
       "      <td>0</td>\n",
       "      <td>0</td>\n",
       "      <td>s=0-1</td>\n",
       "      <td>4</td>\n",
       "      <td>0.670388</td>\n",
       "      <td>27.0</td>\n",
       "      <td>0.670388</td>\n",
       "    </tr>\n",
       "    <tr>\n",
       "      <th>65</th>\n",
       "      <td>0</td>\n",
       "      <td>0</td>\n",
       "      <td>s=0-2</td>\n",
       "      <td>4</td>\n",
       "      <td>0.949570</td>\n",
       "      <td>27.0</td>\n",
       "      <td>0.949570</td>\n",
       "    </tr>\n",
       "    <tr>\n",
       "      <th>66</th>\n",
       "      <td>0</td>\n",
       "      <td>0</td>\n",
       "      <td>s=0-3</td>\n",
       "      <td>4</td>\n",
       "      <td>0.499825</td>\n",
       "      <td>27.0</td>\n",
       "      <td>0.499825</td>\n",
       "    </tr>\n",
       "  </tbody>\n",
       "</table>\n",
       "</div>"
      ],
      "text/plain": [
       "    bracket  bracket_iter model_id  num_models  param_value  \\\n",
       "62        1             1    s=1-3           2     0.764897   \n",
       "63        0             0    s=0-0           4     0.991038   \n",
       "64        0             0    s=0-1           4     0.670388   \n",
       "65        0             0    s=0-2           4     0.949570   \n",
       "66        0             0    s=0-3           4     0.499825   \n",
       "\n",
       "    partial_fit_iters  val_score  \n",
       "62               36.0   0.764897  \n",
       "63               27.0   0.991038  \n",
       "64               27.0   0.670388  \n",
       "65               27.0   0.949570  \n",
       "66               27.0   0.499825  "
      ]
     },
     "execution_count": 8,
     "metadata": {},
     "output_type": "execute_result"
    }
   ],
   "source": [
    "import pandas as pd\n",
    "df = pd.DataFrame(alg.history)\n",
    "print(df.bracket.max())\n",
    "print(df.bracket_iter.unique())\n",
    "df.tail()"
   ]
  },
  {
   "cell_type": "code",
   "execution_count": 9,
   "metadata": {},
   "outputs": [
    {
     "data": {
      "text/html": [
       "<div>\n",
       "<style scoped>\n",
       "    .dataframe tbody tr th:only-of-type {\n",
       "        vertical-align: middle;\n",
       "    }\n",
       "\n",
       "    .dataframe tbody tr th {\n",
       "        vertical-align: top;\n",
       "    }\n",
       "\n",
       "    .dataframe thead th {\n",
       "        text-align: right;\n",
       "    }\n",
       "</style>\n",
       "<table border=\"1\" class=\"dataframe\">\n",
       "  <thead>\n",
       "    <tr style=\"text-align: right;\">\n",
       "      <th></th>\n",
       "      <th>param_value</th>\n",
       "      <th>params</th>\n",
       "      <th>fit_time</th>\n",
       "      <th>score_time</th>\n",
       "      <th>test_score</th>\n",
       "    </tr>\n",
       "  </thead>\n",
       "  <tbody>\n",
       "    <tr>\n",
       "      <th>0</th>\n",
       "      <td>0.262423</td>\n",
       "      <td>{'value': 0.2624227070693479}</td>\n",
       "      <td>0.000017</td>\n",
       "      <td>0.000005</td>\n",
       "      <td>0.262423</td>\n",
       "    </tr>\n",
       "    <tr>\n",
       "      <th>1</th>\n",
       "      <td>0.838458</td>\n",
       "      <td>{'value': 0.8384575353122933}</td>\n",
       "      <td>0.000033</td>\n",
       "      <td>0.000014</td>\n",
       "      <td>0.838458</td>\n",
       "    </tr>\n",
       "    <tr>\n",
       "      <th>2</th>\n",
       "      <td>0.333099</td>\n",
       "      <td>{'value': 0.33309898332376264}</td>\n",
       "      <td>0.000012</td>\n",
       "      <td>0.000004</td>\n",
       "      <td>0.333099</td>\n",
       "    </tr>\n",
       "    <tr>\n",
       "      <th>3</th>\n",
       "      <td>0.887817</td>\n",
       "      <td>{'value': 0.8878169382212592}</td>\n",
       "      <td>0.000026</td>\n",
       "      <td>0.000007</td>\n",
       "      <td>0.887817</td>\n",
       "    </tr>\n",
       "    <tr>\n",
       "      <th>4</th>\n",
       "      <td>0.990135</td>\n",
       "      <td>{'value': 0.9901346767185802}</td>\n",
       "      <td>0.000048</td>\n",
       "      <td>0.000010</td>\n",
       "      <td>0.990135</td>\n",
       "    </tr>\n",
       "  </tbody>\n",
       "</table>\n",
       "</div>"
      ],
      "text/plain": [
       "   param_value                          params  fit_time  score_time  \\\n",
       "0     0.262423   {'value': 0.2624227070693479}  0.000017    0.000005   \n",
       "1     0.838458   {'value': 0.8384575353122933}  0.000033    0.000014   \n",
       "2     0.333099  {'value': 0.33309898332376264}  0.000012    0.000004   \n",
       "3     0.887817   {'value': 0.8878169382212592}  0.000026    0.000007   \n",
       "4     0.990135   {'value': 0.9901346767185802}  0.000048    0.000010   \n",
       "\n",
       "   test_score  \n",
       "0    0.262423  \n",
       "1    0.838458  \n",
       "2    0.333099  \n",
       "3    0.887817  \n",
       "4    0.990135  "
      ]
     },
     "execution_count": 9,
     "metadata": {},
     "output_type": "execute_result"
    }
   ],
   "source": [
    "results = pd.DataFrame(alg.cv_results_)\n",
    "results.head()"
   ]
  },
  {
   "cell_type": "code",
   "execution_count": 10,
   "metadata": {},
   "outputs": [
    {
     "data": {
      "application/vnd.vegalite.v2+json": {
       "$schema": "https://vega.github.io/schema/vega-lite/v2.4.3.json",
       "config": {
        "view": {
         "height": 300,
         "width": 400
        }
       },
       "data": {
        "values": [
         {
          "-bracket": -3,
          "bracket": 3,
          "bracket_iter": 0,
          "model_id": "s=3-0",
          "num_models": 27,
          "param_value": 0.2624227070693479,
          "partial_fit_iters": 1,
          "val_score": 0.2624227070693479
         },
         {
          "-bracket": -3,
          "bracket": 3,
          "bracket_iter": 0,
          "model_id": "s=3-1",
          "num_models": 27,
          "param_value": 0.8384575353122933,
          "partial_fit_iters": 1,
          "val_score": 0.8384575353122933
         },
         {
          "-bracket": -3,
          "bracket": 3,
          "bracket_iter": 0,
          "model_id": "s=3-2",
          "num_models": 27,
          "param_value": 0.33309898332376264,
          "partial_fit_iters": 1,
          "val_score": 0.33309898332376264
         },
         {
          "-bracket": -3,
          "bracket": 3,
          "bracket_iter": 0,
          "model_id": "s=3-3",
          "num_models": 27,
          "param_value": 0.8878169382212592,
          "partial_fit_iters": 1,
          "val_score": 0.8878169382212592
         },
         {
          "-bracket": -3,
          "bracket": 3,
          "bracket_iter": 0,
          "model_id": "s=3-4",
          "num_models": 27,
          "param_value": 0.9901346767185802,
          "partial_fit_iters": 1,
          "val_score": 0.9901346767185802
         },
         {
          "-bracket": -3,
          "bracket": 3,
          "bracket_iter": 0,
          "model_id": "s=3-5",
          "num_models": 27,
          "param_value": 0.5203666462245871,
          "partial_fit_iters": 1,
          "val_score": 0.5203666462245871
         },
         {
          "-bracket": -3,
          "bracket": 3,
          "bracket_iter": 0,
          "model_id": "s=3-6",
          "num_models": 27,
          "param_value": 0.9432546028391906,
          "partial_fit_iters": 1,
          "val_score": 0.9432546028391906
         },
         {
          "-bracket": -3,
          "bracket": 3,
          "bracket_iter": 0,
          "model_id": "s=3-7",
          "num_models": 27,
          "param_value": 0.7648306332564655,
          "partial_fit_iters": 1,
          "val_score": 0.7648306332564655
         },
         {
          "-bracket": -3,
          "bracket": 3,
          "bracket_iter": 0,
          "model_id": "s=3-8",
          "num_models": 27,
          "param_value": 0.35403275228907827,
          "partial_fit_iters": 1,
          "val_score": 0.35403275228907827
         },
         {
          "-bracket": -3,
          "bracket": 3,
          "bracket_iter": 0,
          "model_id": "s=3-9",
          "num_models": 27,
          "param_value": 0.7446463905386401,
          "partial_fit_iters": 1,
          "val_score": 0.7446463905386401
         },
         {
          "-bracket": -3,
          "bracket": 3,
          "bracket_iter": 0,
          "model_id": "s=3-10",
          "num_models": 27,
          "param_value": 0.20746942833905868,
          "partial_fit_iters": 1,
          "val_score": 0.20746942833905868
         },
         {
          "-bracket": -3,
          "bracket": 3,
          "bracket_iter": 0,
          "model_id": "s=3-11",
          "num_models": 27,
          "param_value": 0.34385844732143866,
          "partial_fit_iters": 1,
          "val_score": 0.34385844732143866
         },
         {
          "-bracket": -3,
          "bracket": 3,
          "bracket_iter": 0,
          "model_id": "s=3-12",
          "num_models": 27,
          "param_value": 0.6508173306925138,
          "partial_fit_iters": 1,
          "val_score": 0.6508173306925138
         },
         {
          "-bracket": -3,
          "bracket": 3,
          "bracket_iter": 0,
          "model_id": "s=3-13",
          "num_models": 27,
          "param_value": 0.7754944921540237,
          "partial_fit_iters": 1,
          "val_score": 0.7754944921540237
         },
         {
          "-bracket": -3,
          "bracket": 3,
          "bracket_iter": 0,
          "model_id": "s=3-14",
          "num_models": 27,
          "param_value": 0.6344578887626324,
          "partial_fit_iters": 1,
          "val_score": 0.6344578887626324
         },
         {
          "-bracket": -3,
          "bracket": 3,
          "bracket_iter": 0,
          "model_id": "s=3-15",
          "num_models": 27,
          "param_value": 0.18545830000546337,
          "partial_fit_iters": 1,
          "val_score": 0.18545830000546337
         },
         {
          "-bracket": -3,
          "bracket": 3,
          "bracket_iter": 0,
          "model_id": "s=3-16",
          "num_models": 27,
          "param_value": 0.8267145415810605,
          "partial_fit_iters": 1,
          "val_score": 0.8267145415810605
         },
         {
          "-bracket": -3,
          "bracket": 3,
          "bracket_iter": 0,
          "model_id": "s=3-17",
          "num_models": 27,
          "param_value": 0.7465639681215531,
          "partial_fit_iters": 1,
          "val_score": 0.7465639681215531
         },
         {
          "-bracket": -3,
          "bracket": 3,
          "bracket_iter": 0,
          "model_id": "s=3-18",
          "num_models": 27,
          "param_value": 0.20230429113513182,
          "partial_fit_iters": 1,
          "val_score": 0.20230429113513182
         },
         {
          "-bracket": -3,
          "bracket": 3,
          "bracket_iter": 0,
          "model_id": "s=3-19",
          "num_models": 27,
          "param_value": 0.14878668118013205,
          "partial_fit_iters": 1,
          "val_score": 0.14878668118013205
         },
         {
          "-bracket": -3,
          "bracket": 3,
          "bracket_iter": 0,
          "model_id": "s=3-20",
          "num_models": 27,
          "param_value": 0.9643934182994348,
          "partial_fit_iters": 1,
          "val_score": 0.9643934182994348
         },
         {
          "-bracket": -3,
          "bracket": 3,
          "bracket_iter": 0,
          "model_id": "s=3-21",
          "num_models": 27,
          "param_value": 0.12059201142319353,
          "partial_fit_iters": 1,
          "val_score": 0.12059201142319353
         },
         {
          "-bracket": -3,
          "bracket": 3,
          "bracket_iter": 0,
          "model_id": "s=3-22",
          "num_models": 27,
          "param_value": 0.19594402821368284,
          "partial_fit_iters": 1,
          "val_score": 0.19594402821368284
         },
         {
          "-bracket": -3,
          "bracket": 3,
          "bracket_iter": 0,
          "model_id": "s=3-23",
          "num_models": 27,
          "param_value": 0.8321205953833986,
          "partial_fit_iters": 1,
          "val_score": 0.8321205953833986
         },
         {
          "-bracket": -3,
          "bracket": 3,
          "bracket_iter": 0,
          "model_id": "s=3-24",
          "num_models": 27,
          "param_value": 0.4007431267384225,
          "partial_fit_iters": 1,
          "val_score": 0.4007431267384225
         },
         {
          "-bracket": -3,
          "bracket": 3,
          "bracket_iter": 0,
          "model_id": "s=3-25",
          "num_models": 27,
          "param_value": 0.39758753365931243,
          "partial_fit_iters": 1,
          "val_score": 0.39758753365931243
         },
         {
          "-bracket": -3,
          "bracket": 3,
          "bracket_iter": 0,
          "model_id": "s=3-26",
          "num_models": 27,
          "param_value": 0.727491120825923,
          "partial_fit_iters": 1,
          "val_score": 0.727491120825923
         },
         {
          "-bracket": -3,
          "bracket": 3,
          "bracket_iter": 1,
          "model_id": "s=3-7",
          "num_models": 9,
          "param_value": 0.7648306332564655,
          "partial_fit_iters": 4,
          "val_score": 0.7648306332564655
         },
         {
          "-bracket": -3,
          "bracket": 3,
          "bracket_iter": 1,
          "model_id": "s=3-13",
          "num_models": 9,
          "param_value": 0.7754944921540237,
          "partial_fit_iters": 4,
          "val_score": 0.7754944921540237
         },
         {
          "-bracket": -3,
          "bracket": 3,
          "bracket_iter": 1,
          "model_id": "s=3-16",
          "num_models": 9,
          "param_value": 0.8267145415810605,
          "partial_fit_iters": 4,
          "val_score": 0.8267145415810605
         },
         {
          "-bracket": -3,
          "bracket": 3,
          "bracket_iter": 1,
          "model_id": "s=3-23",
          "num_models": 9,
          "param_value": 0.8321205953833986,
          "partial_fit_iters": 4,
          "val_score": 0.8321205953833986
         },
         {
          "-bracket": -3,
          "bracket": 3,
          "bracket_iter": 1,
          "model_id": "s=3-1",
          "num_models": 9,
          "param_value": 0.8384575353122933,
          "partial_fit_iters": 4,
          "val_score": 0.8384575353122933
         },
         {
          "-bracket": -3,
          "bracket": 3,
          "bracket_iter": 1,
          "model_id": "s=3-3",
          "num_models": 9,
          "param_value": 0.8878169382212592,
          "partial_fit_iters": 4,
          "val_score": 0.8878169382212592
         },
         {
          "-bracket": -3,
          "bracket": 3,
          "bracket_iter": 1,
          "model_id": "s=3-6",
          "num_models": 9,
          "param_value": 0.9432546028391906,
          "partial_fit_iters": 4,
          "val_score": 0.9432546028391906
         },
         {
          "-bracket": -3,
          "bracket": 3,
          "bracket_iter": 1,
          "model_id": "s=3-20",
          "num_models": 9,
          "param_value": 0.9643934182994348,
          "partial_fit_iters": 4,
          "val_score": 0.9643934182994348
         },
         {
          "-bracket": -3,
          "bracket": 3,
          "bracket_iter": 1,
          "model_id": "s=3-4",
          "num_models": 9,
          "param_value": 0.9901346767185802,
          "partial_fit_iters": 4,
          "val_score": 0.9901346767185802
         },
         {
          "-bracket": -3,
          "bracket": 3,
          "bracket_iter": 2,
          "model_id": "s=3-6",
          "num_models": 3,
          "param_value": 0.9432546028391906,
          "partial_fit_iters": 13,
          "val_score": 0.9432546028391906
         },
         {
          "-bracket": -3,
          "bracket": 3,
          "bracket_iter": 2,
          "model_id": "s=3-20",
          "num_models": 3,
          "param_value": 0.9643934182994348,
          "partial_fit_iters": 13,
          "val_score": 0.9643934182994348
         },
         {
          "-bracket": -3,
          "bracket": 3,
          "bracket_iter": 2,
          "model_id": "s=3-4",
          "num_models": 3,
          "param_value": 0.9901346767185802,
          "partial_fit_iters": 13,
          "val_score": 0.9901346767185802
         },
         {
          "-bracket": -2,
          "bracket": 2,
          "bracket_iter": 0,
          "model_id": "s=2-0",
          "num_models": 12,
          "param_value": 0.22298467041005765,
          "partial_fit_iters": 3,
          "val_score": 0.22298467041005765
         },
         {
          "-bracket": -2,
          "bracket": 2,
          "bracket_iter": 0,
          "model_id": "s=2-1",
          "num_models": 12,
          "param_value": 0.5476836778806585,
          "partial_fit_iters": 3,
          "val_score": 0.5476836778806585
         },
         {
          "-bracket": -2,
          "bracket": 2,
          "bracket_iter": 0,
          "model_id": "s=2-2",
          "num_models": 12,
          "param_value": 0.050391963017863306,
          "partial_fit_iters": 3,
          "val_score": 0.050391963017863306
         },
         {
          "-bracket": -2,
          "bracket": 2,
          "bracket_iter": 0,
          "model_id": "s=2-3",
          "num_models": 12,
          "param_value": 0.7269100230797364,
          "partial_fit_iters": 3,
          "val_score": 0.7269100230797364
         },
         {
          "-bracket": -2,
          "bracket": 2,
          "bracket_iter": 0,
          "model_id": "s=2-4",
          "num_models": 12,
          "param_value": 0.4520712953692583,
          "partial_fit_iters": 3,
          "val_score": 0.4520712953692583
         },
         {
          "-bracket": -2,
          "bracket": 2,
          "bracket_iter": 0,
          "model_id": "s=2-5",
          "num_models": 12,
          "param_value": 0.049928783894594875,
          "partial_fit_iters": 3,
          "val_score": 0.049928783894594875
         },
         {
          "-bracket": -2,
          "bracket": 2,
          "bracket_iter": 0,
          "model_id": "s=2-6",
          "num_models": 12,
          "param_value": 0.5412362747634387,
          "partial_fit_iters": 3,
          "val_score": 0.5412362747634387
         },
         {
          "-bracket": -2,
          "bracket": 2,
          "bracket_iter": 0,
          "model_id": "s=2-7",
          "num_models": 12,
          "param_value": 0.35549011476975456,
          "partial_fit_iters": 3,
          "val_score": 0.35549011476975456
         },
         {
          "-bracket": -2,
          "bracket": 2,
          "bracket_iter": 0,
          "model_id": "s=2-8",
          "num_models": 12,
          "param_value": 0.05459946258961834,
          "partial_fit_iters": 3,
          "val_score": 0.05459946258961834
         },
         {
          "-bracket": -2,
          "bracket": 2,
          "bracket_iter": 0,
          "model_id": "s=2-9",
          "num_models": 12,
          "param_value": 0.6474496919077164,
          "partial_fit_iters": 3,
          "val_score": 0.6474496919077164
         },
         {
          "-bracket": -2,
          "bracket": 2,
          "bracket_iter": 0,
          "model_id": "s=2-10",
          "num_models": 12,
          "param_value": 0.7267181057324399,
          "partial_fit_iters": 3,
          "val_score": 0.7267181057324399
         },
         {
          "-bracket": -2,
          "bracket": 2,
          "bracket_iter": 0,
          "model_id": "s=2-11",
          "num_models": 12,
          "param_value": 0.12414337111147067,
          "partial_fit_iters": 3,
          "val_score": 0.12414337111147067
         },
         {
          "-bracket": -2,
          "bracket": 2,
          "bracket_iter": 1,
          "model_id": "s=2-1",
          "num_models": 4,
          "param_value": 0.5476836778806585,
          "partial_fit_iters": 12,
          "val_score": 0.5476836778806585
         },
         {
          "-bracket": -2,
          "bracket": 2,
          "bracket_iter": 1,
          "model_id": "s=2-9",
          "num_models": 4,
          "param_value": 0.6474496919077164,
          "partial_fit_iters": 12,
          "val_score": 0.6474496919077164
         },
         {
          "-bracket": -2,
          "bracket": 2,
          "bracket_iter": 1,
          "model_id": "s=2-10",
          "num_models": 4,
          "param_value": 0.7267181057324399,
          "partial_fit_iters": 12,
          "val_score": 0.7267181057324399
         },
         {
          "-bracket": -2,
          "bracket": 2,
          "bracket_iter": 1,
          "model_id": "s=2-3",
          "num_models": 4,
          "param_value": 0.7269100230797364,
          "partial_fit_iters": 12,
          "val_score": 0.7269100230797364
         },
         {
          "-bracket": -1,
          "bracket": 1,
          "bracket_iter": 0,
          "model_id": "s=1-0",
          "num_models": 6,
          "param_value": 0.6530069252380927,
          "partial_fit_iters": 9,
          "val_score": 0.6530069252380927
         },
         {
          "-bracket": -1,
          "bracket": 1,
          "bracket_iter": 0,
          "model_id": "s=1-1",
          "num_models": 6,
          "param_value": 0.22392154674284925,
          "partial_fit_iters": 9,
          "val_score": 0.22392154674284925
         },
         {
          "-bracket": -1,
          "bracket": 1,
          "bracket_iter": 0,
          "model_id": "s=1-2",
          "num_models": 6,
          "param_value": 0.7088795455542826,
          "partial_fit_iters": 9,
          "val_score": 0.7088795455542826
         },
         {
          "-bracket": -1,
          "bracket": 1,
          "bracket_iter": 0,
          "model_id": "s=1-3",
          "num_models": 6,
          "param_value": 0.7648973664204608,
          "partial_fit_iters": 9,
          "val_score": 0.7648973664204608
         },
         {
          "-bracket": -1,
          "bracket": 1,
          "bracket_iter": 0,
          "model_id": "s=1-4",
          "num_models": 6,
          "param_value": 0.1525356369550792,
          "partial_fit_iters": 9,
          "val_score": 0.1525356369550792
         },
         {
          "-bracket": -1,
          "bracket": 1,
          "bracket_iter": 0,
          "model_id": "s=1-5",
          "num_models": 6,
          "param_value": 0.356631011506666,
          "partial_fit_iters": 9,
          "val_score": 0.356631011506666
         },
         {
          "-bracket": -1,
          "bracket": 1,
          "bracket_iter": 1,
          "model_id": "s=1-2",
          "num_models": 2,
          "param_value": 0.7088795455542826,
          "partial_fit_iters": 36,
          "val_score": 0.7088795455542826
         },
         {
          "-bracket": -1,
          "bracket": 1,
          "bracket_iter": 1,
          "model_id": "s=1-3",
          "num_models": 2,
          "param_value": 0.7648973664204608,
          "partial_fit_iters": 36,
          "val_score": 0.7648973664204608
         },
         {
          "-bracket": 0,
          "bracket": 0,
          "bracket_iter": 0,
          "model_id": "s=0-0",
          "num_models": 4,
          "param_value": 0.9910381820378149,
          "partial_fit_iters": 27,
          "val_score": 0.9910381820378149
         },
         {
          "-bracket": 0,
          "bracket": 0,
          "bracket_iter": 0,
          "model_id": "s=0-1",
          "num_models": 4,
          "param_value": 0.6703879466770823,
          "partial_fit_iters": 27,
          "val_score": 0.6703879466770823
         },
         {
          "-bracket": 0,
          "bracket": 0,
          "bracket_iter": 0,
          "model_id": "s=0-2",
          "num_models": 4,
          "param_value": 0.9495703619197458,
          "partial_fit_iters": 27,
          "val_score": 0.9495703619197458
         },
         {
          "-bracket": 0,
          "bracket": 0,
          "bracket_iter": 0,
          "model_id": "s=0-3",
          "num_models": 4,
          "param_value": 0.4998248212465597,
          "partial_fit_iters": 27,
          "val_score": 0.4998248212465597
         }
        ]
       },
       "encoding": {
        "color": {
         "field": "model_id",
         "type": "nominal"
        },
        "row": {
         "field": "-bracket",
         "type": "quantitative"
        },
        "x": {
         "field": "bracket_iter",
         "type": "quantitative"
        },
        "y": {
         "field": "val_score",
         "scale": {
          "zero": false
         },
         "type": "quantitative"
        }
       },
       "mark": "line"
      },
      "image/png": "[encoded data removed]",
      "text/plain": [
       "<VegaLite 2 object>\n",
       "\n",
       "If you see this message, it means the renderer has not been properly enabled\n",
       "for the frontend that you are using. For more information, see\n",
       "https://altair-viz.github.io/user_guide/troubleshooting.html\n"
      ]
     },
     "execution_count": 10,
     "metadata": {},
     "output_type": "execute_result"
    }
   ],
   "source": [
    "import altair as alt\n",
    "import matplotlib.pyplot as plt\n",
    "\n",
    "# different brackets; need a better name than \"s\"\n",
    "df['-bracket'] = -1 * df['bracket']\n",
    "\n",
    "alt.Chart(df).mark_line().encode(\n",
    "    x='bracket_iter', \n",
    "    y=alt.Y('val_score', scale=alt.Scale(zero=False)),\n",
    "    color='model_id',\n",
    "    row='-bracket')"
   ]
  },
  {
   "cell_type": "code",
   "execution_count": null,
   "metadata": {},
   "outputs": [],
   "source": []
  }
 ],
 "metadata": {
  "kernelspec": {
   "display_name": "Python 3",
   "language": "python",
   "name": "python3"
  },
  "language_info": {
   "codemirror_mode": {
    "name": "ipython",
    "version": 3
   },
   "file_extension": ".py",
   "mimetype": "text/x-python",
   "name": "python",
   "nbconvert_exporter": "python",
   "pygments_lexer": "ipython3",
   "version": "3.6.5"
  }
 },
 "nbformat": 4,
 "nbformat_minor": 2
}
